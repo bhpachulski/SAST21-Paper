{
 "metadata": {
  "language_info": {
   "codemirror_mode": {
    "name": "ipython",
    "version": 3
   },
   "file_extension": ".py",
   "mimetype": "text/x-python",
   "name": "python",
   "nbconvert_exporter": "python",
   "pygments_lexer": "ipython3",
   "version": "3.9.4"
  },
  "orig_nbformat": 2,
  "kernelspec": {
   "name": "python3",
   "display_name": "Python 3.9.4 64-bit"
  },
  "metadata": {
   "interpreter": {
    "hash": "aee8b7b246df8f9039afb4144a1f6fd8d2ca17a180786b69acc140d282b71a49"
   }
  },
  "interpreter": {
   "hash": "aee8b7b246df8f9039afb4144a1f6fd8d2ca17a180786b69acc140d282b71a49"
  }
 },
 "nbformat": 4,
 "nbformat_minor": 2,
 "cells": [
  {
   "cell_type": "code",
   "execution_count": 1,
   "metadata": {},
   "outputs": [],
   "source": [
    "import sys\n",
    "import arff\n",
    "from io import StringIO\n",
    "from sklearn import svm\n",
    "import numpy as np\n",
    "import pandas as pd\n",
    "import time\n",
    "import json\n",
    "import csv\n",
    "import pickle\n",
    "import seaborn as sns\n",
    "import matplotlib.pyplot as plt\n",
    "import re\n",
    "from pandasgui import show\n",
    "\n",
    "from sklearn.model_selection import cross_validate\n",
    "from sklearn.feature_selection import mutual_info_classif\n",
    "from sklearn.preprocessing import minmax_scale\n",
    "from sklearn.feature_extraction.text import TfidfVectorizer\n",
    "from sklearn.model_selection import train_test_split\n",
    "from sklearn.feature_extraction.text import CountVectorizer\n",
    "from sklearn.neighbors import KNeighborsClassifier\n",
    "from sklearn.naive_bayes import GaussianNB\n",
    "from sklearn.discriminant_analysis import LinearDiscriminantAnalysis\n",
    "from sklearn.linear_model import LogisticRegression\n",
    "from sklearn.linear_model import Perceptron\n",
    "from sklearn.ensemble import RandomForestClassifier\n",
    "from sklearn.tree import DecisionTreeClassifier\n",
    "from sklearn.metrics import f1_score\n",
    "from sklearn.metrics import confusion_matrix\n",
    "from sklearn.model_selection import learning_curve\n",
    "from sklearn.model_selection import ShuffleSplit\n",
    "from sklearn.metrics import classification_report\n",
    "from sklearn.metrics import roc_auc_score\n",
    "from sklearn.metrics import matthews_corrcoef\n",
    "from sklearn.metrics import plot_confusion_matrix\n",
    "from sklearn.preprocessing import MinMaxScaler\n",
    "from sklearn.svm import LinearSVC\n",
    "from sklearn.calibration import CalibratedClassifierCV\n",
    "from sklearn.preprocessing import Binarizer\n",
    "from sklearn.calibration import calibration_curve\n",
    "from sklearn.feature_selection import RFECV\n",
    "from sklearn.svm import SVR\n",
    "from sklearn import preprocessing\n",
    "from sklearn.ensemble import BaggingClassifier\n",
    "from sklearn.ensemble import GradientBoostingClassifier\n",
    "from sklearn.ensemble import StackingClassifier\n",
    "from sklearn.ensemble import VotingClassifier\n",
    "\n",
    "\n",
    "idFlakiesProjects = ['redpipe', 'vertexium', 'javaCasClient', 'c2mon', 'vertx', 'excelastic', 'rxjava2', 'tyrus', 'esper', 'yawp', 'luwak', 'fluentLoggerJava', 'delightNashornSandbox', 'dbScheduler', 'one', 'sawmill', 'springCloudZuulRatelimit', 'timely', 'sos', 'openpojo', 'ociJavaSdk', 'aletheia', 'pippo', 'recast4j', 'noxy', 'springCloudAws', 'vertxMqtt', 'vertxRabbitmqClient', 'admiral', 'carbonApimgt', 'riptide', 'fastjson', 'dubbo', 'webcollector', 'doanduyhaiAchilles', 'elasticjoblite', 'disconf', 'hutool', 'oryx', 'querydsl', 'helios', 'retrofit', 'javaWebsocket', 'undertow', 'alien4cloud', 'cukes', 'hsac', 'googdDataCl', 'springDataBean', 'jhispster', 'marineApi', 'junitQuickcheck', 'nexus', 'springDataEnvers', 'springWs', 'aismessages', 'unix4j', 'wikidata', 'activiti', 'jackrabbit', 'struts', 'jfreechart', 'httpRequest', 'wildflymaven', 'nifiRegistry', 'arangoddb', 'dnsjava', 'as2lib', 'whois', 'dbean', 'searchHighlighter', 'wildflymavenplugin', 'balana', 'limfs', 'jodatime', 'otto', 'dropwizard']\n",
    "\n",
    "msr4FlakinessProjects = ['Achilles', 'ambari', 'assertj-core', 'checkstyle', 'commons-exec', 'dropwizard', 'hadoop', 'handlebars', 'hbase', 'hector', 'httpcore', 'jackrabbit-oak', 'jimfs', 'logback', 'ninja', 'okhttp', 'oozie', 'orbit', 'oryx', 'spring-boot', 'alluxio', 'togglz', 'undertow', 'wro4j', 'zxing']"
   ]
  },
  {
   "cell_type": "code",
   "execution_count": 2,
   "metadata": {},
   "outputs": [],
   "source": [
    "data = pd.read_csv('sampled.csv')"
   ]
  },
  {
   "cell_type": "code",
   "execution_count": 3,
   "metadata": {},
   "outputs": [],
   "source": [
    "data = data.reset_index()\n",
    "\n",
    "# removing smells classes exceptionCatchingThrowing and dependentTest becouse not has value\n",
    "data = data.drop(columns=['commit', 'testClass', 'testMethod', 'testFilePath', 'productionFilePath', 'relativeTestFilePath', 'relativeProductionFilePath', 'tsTestClass', 'tsTestMethod', 'is_sampled', 'dependentTest', 'exceptionCatchingThrowing', 'vocabulary', 'tokens_parser', 'keywords_parser', 'strings_parser', 'string_type_parser', 'anotations_parser'], axis=1)\n",
    "\n",
    "data = data.replace(np.nan, 0)\n",
    "data = data.replace(True, 1)\n",
    "data = data.replace(False, 0)\n",
    "\n",
    "data = data.replace('flaky', 1)\n",
    "data = data.replace('nonflaky', 0)"
   ]
  },
  {
   "cell_type": "code",
   "execution_count": 4,
   "metadata": {},
   "outputs": [],
   "source": [
    "data = data.astype({\n",
    "    'loc': 'int32',\n",
    "    'smellsCount': 'int32',\n",
    "    'assertionRoulette': 'int32',\n",
    "    'conditionalTestLogic': 'int32',\n",
    "    'constructorInitialization': 'int32',\n",
    "    'defaultTest': 'int32',\n",
    "    'duplicateAssert': 'int32',\n",
    "    'eagerTest': 'int32',\n",
    "    'emptyTest': 'int32',\n",
    "    'generalFixture': 'int32',\n",
    "    'ignoredTest': 'int32',\n",
    "    'lazyTest': 'int32',\n",
    "    'magicNumberTest': 'int32',\n",
    "    'mysteryGuest': 'int32',\n",
    "    'printStatement': 'int32',\n",
    "    'redundantAssertion': 'int32',\n",
    "    'resourceOptimism': 'int32',\n",
    "    'sensitiveEquality': 'int32',\n",
    "    'sleepyTest': 'int32',\n",
    "    'unknownTest': 'int32',\n",
    "    'verboseTest': 'int32',\n",
    "})\n"
   ]
  },
  {
   "cell_type": "code",
   "execution_count": 5,
   "metadata": {},
   "outputs": [
    {
     "output_type": "stream",
     "name": "stdout",
     "text": [
      "2800 2777\n"
     ]
    }
   ],
   "source": [
    "# filtering by dataset\n",
    "allMsr4flakiness = data.loc[data.dataset == 'msr4flakiness']\n",
    "before = len(allMsr4flakiness)\n",
    "\n",
    "# filtering by projects\n",
    "smells = allMsr4flakiness.loc[allMsr4flakiness.project.isin(msr4FlakinessProjects)]\n",
    "after = len(smells)\n",
    "\n",
    "smells = smells.reset_index()\n",
    "\n",
    "print(before, after)"
   ]
  },
  {
   "cell_type": "code",
   "execution_count": 6,
   "metadata": {},
   "outputs": [],
   "source": [
    "train = smells"
   ]
  },
  {
   "cell_type": "code",
   "execution_count": 7,
   "metadata": {},
   "outputs": [],
   "source": [
    "train_y = train['klass']\n",
    "train = train.drop(['project', 'klass', 'dataset', 'level_0', 'index'], axis=1)\n",
    "\n",
    "X_train, x_test, y_train, y_test = train_test_split(train, train_y, test_size=0.2, random_state=1) #, random_state=0"
   ]
  },
  {
   "cell_type": "code",
   "execution_count": 8,
   "metadata": {},
   "outputs": [],
   "source": [
    "classifiers_old = {\n",
    "        'randomForest': RandomForestClassifier(random_state=1), \n",
    "        'decisionTree': DecisionTreeClassifier(min_samples_leaf=1),\n",
    "        'naiveBayes': GaussianNB(),\n",
    "        'smo': CalibratedClassifierCV(LinearSVC(fit_intercept=False, tol=0.001, C=1, dual=False, max_iter=100000), method='sigmoid'),\n",
    "        'knn': KNeighborsClassifier(n_neighbors=1, metric='euclidean'),\n",
    "        'logisticRegression': LogisticRegression(max_iter=1000),\n",
    "        'perceptron': CalibratedClassifierCV(Perceptron()),\n",
    "        'lda': LinearDiscriminantAnalysis(),\n",
    "    }\n",
    "\n",
    "classifierStatistics = pd.DataFrame(columns=['features', 'process', 'step', 'classifier', 'acc', 'precision', 'recall', 'f1', 'mcc', 'auc', 'VP', 'FN'])"
   ]
  },
  {
   "cell_type": "code",
   "execution_count": 9,
   "metadata": {},
   "outputs": [],
   "source": [
    "trained_classifier_old = {}\n",
    "predict_classifiers = {}\n",
    "\n",
    "for key, classifier in classifiers_old.items():\n",
    "\n",
    "    classifier.fit(X_train, y_train)\n",
    "    predict = classifier.predict(x_test)\n",
    "    y_probs = classifier.predict_proba(x_test)[:,1]\n",
    "\n",
    "    predict_classifiers[key] = predict\n",
    "\n",
    "    acc = classifier.score(x_test, y_test)\n",
    "    f1 = f1_score(y_test, predict, average='weighted')  \n",
    "    cr = classification_report(y_test, predict, output_dict=True)  \n",
    "    mcc = matthews_corrcoef(y_test, predict)\n",
    "    auc = roc_auc_score(y_test, y_probs)\n",
    "\n",
    "    classStatistics = {\n",
    "        'features': 'smells',\n",
    "        'process': 'tradicional',\n",
    "        'step': 'training',\n",
    "        'classifier': key,\n",
    "        'acc': acc,\n",
    "        'precision': cr['weighted avg']['precision'],\n",
    "        'recall': cr['weighted avg']['recall'],\n",
    "        'f1': f1,\n",
    "        'auc': auc,\n",
    "        'mcc': mcc\n",
    "    }\n",
    "\n",
    "    classifierStatistics = classifierStatistics.append(classStatistics, ignore_index=True)\n",
    "    trained_classifier_old[key] = classifier"
   ]
  },
  {
   "cell_type": "code",
   "execution_count": 10,
   "metadata": {},
   "outputs": [
    {
     "output_type": "execute_result",
     "data": {
      "text/plain": [
       "21"
      ]
     },
     "metadata": {},
     "execution_count": 10
    }
   ],
   "source": [
    "len(X_train.columns)"
   ]
  },
  {
   "cell_type": "code",
   "execution_count": 11,
   "metadata": {},
   "outputs": [
    {
     "output_type": "execute_result",
     "data": {
      "text/plain": [
       "  features      process      step          classifier       acc  precision  \\\n",
       "0   smells  tradicional  training        randomForest  0.836331   0.836912   \n",
       "1   smells  tradicional  training        decisionTree  0.834532   0.834601   \n",
       "2   smells  tradicional  training          naiveBayes  0.652878   0.738687   \n",
       "3   smells  tradicional  training                 smo  0.751799   0.752165   \n",
       "4   smells  tradicional  training                 knn  0.812950   0.812908   \n",
       "5   smells  tradicional  training  logisticRegression  0.793165   0.793934   \n",
       "6   smells  tradicional  training          perceptron  0.776978   0.777729   \n",
       "7   smells  tradicional  training                 lda  0.782374   0.783548   \n",
       "\n",
       "     recall        f1       mcc       auc  VP  FN  \n",
       "0  0.836331  0.836402  0.672862  0.905892 NaN NaN  \n",
       "1  0.834532  0.834556  0.668567  0.862114 NaN NaN  \n",
       "2  0.652878  0.610184  0.368766  0.783951 NaN NaN  \n",
       "3  0.751799  0.751188  0.502338  0.829971 NaN NaN  \n",
       "4  0.812950  0.812918  0.625101  0.812445 NaN NaN  \n",
       "5  0.793165  0.792616  0.585713  0.873619 NaN NaN  \n",
       "6  0.776978  0.776340  0.553177  0.864558 NaN NaN  \n",
       "7  0.782374  0.781608  0.564326  0.861758 NaN NaN  "
      ],
      "text/html": "<div>\n<style scoped>\n    .dataframe tbody tr th:only-of-type {\n        vertical-align: middle;\n    }\n\n    .dataframe tbody tr th {\n        vertical-align: top;\n    }\n\n    .dataframe thead th {\n        text-align: right;\n    }\n</style>\n<table border=\"1\" class=\"dataframe\">\n  <thead>\n    <tr style=\"text-align: right;\">\n      <th></th>\n      <th>features</th>\n      <th>process</th>\n      <th>step</th>\n      <th>classifier</th>\n      <th>acc</th>\n      <th>precision</th>\n      <th>recall</th>\n      <th>f1</th>\n      <th>mcc</th>\n      <th>auc</th>\n      <th>VP</th>\n      <th>FN</th>\n    </tr>\n  </thead>\n  <tbody>\n    <tr>\n      <th>0</th>\n      <td>smells</td>\n      <td>tradicional</td>\n      <td>training</td>\n      <td>randomForest</td>\n      <td>0.836331</td>\n      <td>0.836912</td>\n      <td>0.836331</td>\n      <td>0.836402</td>\n      <td>0.672862</td>\n      <td>0.905892</td>\n      <td>NaN</td>\n      <td>NaN</td>\n    </tr>\n    <tr>\n      <th>1</th>\n      <td>smells</td>\n      <td>tradicional</td>\n      <td>training</td>\n      <td>decisionTree</td>\n      <td>0.834532</td>\n      <td>0.834601</td>\n      <td>0.834532</td>\n      <td>0.834556</td>\n      <td>0.668567</td>\n      <td>0.862114</td>\n      <td>NaN</td>\n      <td>NaN</td>\n    </tr>\n    <tr>\n      <th>2</th>\n      <td>smells</td>\n      <td>tradicional</td>\n      <td>training</td>\n      <td>naiveBayes</td>\n      <td>0.652878</td>\n      <td>0.738687</td>\n      <td>0.652878</td>\n      <td>0.610184</td>\n      <td>0.368766</td>\n      <td>0.783951</td>\n      <td>NaN</td>\n      <td>NaN</td>\n    </tr>\n    <tr>\n      <th>3</th>\n      <td>smells</td>\n      <td>tradicional</td>\n      <td>training</td>\n      <td>smo</td>\n      <td>0.751799</td>\n      <td>0.752165</td>\n      <td>0.751799</td>\n      <td>0.751188</td>\n      <td>0.502338</td>\n      <td>0.829971</td>\n      <td>NaN</td>\n      <td>NaN</td>\n    </tr>\n    <tr>\n      <th>4</th>\n      <td>smells</td>\n      <td>tradicional</td>\n      <td>training</td>\n      <td>knn</td>\n      <td>0.812950</td>\n      <td>0.812908</td>\n      <td>0.812950</td>\n      <td>0.812918</td>\n      <td>0.625101</td>\n      <td>0.812445</td>\n      <td>NaN</td>\n      <td>NaN</td>\n    </tr>\n    <tr>\n      <th>5</th>\n      <td>smells</td>\n      <td>tradicional</td>\n      <td>training</td>\n      <td>logisticRegression</td>\n      <td>0.793165</td>\n      <td>0.793934</td>\n      <td>0.793165</td>\n      <td>0.792616</td>\n      <td>0.585713</td>\n      <td>0.873619</td>\n      <td>NaN</td>\n      <td>NaN</td>\n    </tr>\n    <tr>\n      <th>6</th>\n      <td>smells</td>\n      <td>tradicional</td>\n      <td>training</td>\n      <td>perceptron</td>\n      <td>0.776978</td>\n      <td>0.777729</td>\n      <td>0.776978</td>\n      <td>0.776340</td>\n      <td>0.553177</td>\n      <td>0.864558</td>\n      <td>NaN</td>\n      <td>NaN</td>\n    </tr>\n    <tr>\n      <th>7</th>\n      <td>smells</td>\n      <td>tradicional</td>\n      <td>training</td>\n      <td>lda</td>\n      <td>0.782374</td>\n      <td>0.783548</td>\n      <td>0.782374</td>\n      <td>0.781608</td>\n      <td>0.564326</td>\n      <td>0.861758</td>\n      <td>NaN</td>\n      <td>NaN</td>\n    </tr>\n  </tbody>\n</table>\n</div>"
     },
     "metadata": {},
     "execution_count": 11
    }
   ],
   "source": [
    "classifierStatistics[classifierStatistics.process == 'tradicional']"
   ]
  },
  {
   "cell_type": "code",
   "execution_count": 12,
   "metadata": {},
   "outputs": [],
   "source": [
    "#Getting information gain ranking\n",
    "\n",
    "informationGain = dict(zip(train.columns, mutual_info_classif(train, train_y, discrete_features=True)))\n",
    "sortedInformationGain = sorted(informationGain, key=informationGain.get, reverse=True)\n",
    "\n",
    "train_xy = train.join(train_y)"
   ]
  },
  {
   "cell_type": "code",
   "execution_count": 13,
   "metadata": {},
   "outputs": [],
   "source": [
    "i = 0\n",
    "sortedInformationGainPosition = []\n",
    "\n",
    "for r in sortedInformationGain:    \n",
    "\n",
    "    infGain = {\n",
    "        'position': i, \n",
    "        'token': r, \n",
    "        'information_gain': informationGain[r], \n",
    "        'total_ocurences': len(train_xy[ train_xy[r] > 0 ] ), \n",
    "        'total_flaky_occurences': len(train_xy[ (train_xy[r] > 0)  & (train_xy['klass'] == 1) ]), \n",
    "        'total_nonflaky_occurences': len(train_xy[ (train_xy[r] > 0)  & (train_xy['klass'] == 0) ])\n",
    "    }\n",
    "\n",
    "    sortedInformationGainPosition.append(infGain)\n",
    "    i += 1\n",
    "\n",
    "infGainDataset = pd.DataFrame(sortedInformationGainPosition)"
   ]
  },
  {
   "cell_type": "code",
   "execution_count": 14,
   "metadata": {},
   "outputs": [
    {
     "output_type": "execute_result",
     "data": {
      "text/plain": [
       "    position                      token  information_gain  total_ocurences  \\\n",
       "0          0                        loc      2.544574e-01             2777   \n",
       "1          1          assertionRoulette      8.323976e-02             1389   \n",
       "2          2                smellsCount      2.705301e-02             2655   \n",
       "3          3                 sleepyTest      1.948161e-02              112   \n",
       "4          4             generalFixture      1.600704e-02              267   \n",
       "5          5            duplicateAssert      1.552284e-02              376   \n",
       "6          6  constructorInitialization      1.094276e-02               68   \n",
       "7          7             printStatement      1.056366e-02               58   \n",
       "8          8          sensitiveEquality      5.852377e-03              129   \n",
       "9          9                   lazyTest      5.490260e-03             1788   \n",
       "10        10           resourceOptimism      4.252596e-03               75   \n",
       "11        11       conditionalTestLogic      4.217346e-03              356   \n",
       "12        12                unknownTest      2.110196e-03              544   \n",
       "13        13                verboseTest      1.771423e-03                7   \n",
       "14        14            magicNumberTest      1.108724e-03              411   \n",
       "15        15               mysteryGuest      5.519103e-04              124   \n",
       "16        16                  eagerTest      2.573414e-04              970   \n",
       "17        17         redundantAssertion      9.909595e-08                8   \n",
       "18        18                defaultTest      0.000000e+00                0   \n",
       "19        19                  emptyTest      0.000000e+00                0   \n",
       "20        20                ignoredTest      0.000000e+00                0   \n",
       "\n",
       "    total_flaky_occurences  total_nonflaky_occurences  \n",
       "0                     1377                       1400  \n",
       "1                      968                        421  \n",
       "2                     1356                       1299  \n",
       "3                      105                          7  \n",
       "4                       61                        206  \n",
       "5                      269                        107  \n",
       "6                       63                          5  \n",
       "7                       55                          3  \n",
       "8                       95                         34  \n",
       "9                      817                        971  \n",
       "10                      17                         58  \n",
       "11                     219                        137  \n",
       "12                     234                        310  \n",
       "13                       7                          0  \n",
       "14                     227                        184  \n",
       "15                      71                         53  \n",
       "16                     496                        474  \n",
       "17                       4                          4  \n",
       "18                       0                          0  \n",
       "19                       0                          0  \n",
       "20                       0                          0  "
      ],
      "text/html": "<div>\n<style scoped>\n    .dataframe tbody tr th:only-of-type {\n        vertical-align: middle;\n    }\n\n    .dataframe tbody tr th {\n        vertical-align: top;\n    }\n\n    .dataframe thead th {\n        text-align: right;\n    }\n</style>\n<table border=\"1\" class=\"dataframe\">\n  <thead>\n    <tr style=\"text-align: right;\">\n      <th></th>\n      <th>position</th>\n      <th>token</th>\n      <th>information_gain</th>\n      <th>total_ocurences</th>\n      <th>total_flaky_occurences</th>\n      <th>total_nonflaky_occurences</th>\n    </tr>\n  </thead>\n  <tbody>\n    <tr>\n      <th>0</th>\n      <td>0</td>\n      <td>loc</td>\n      <td>2.544574e-01</td>\n      <td>2777</td>\n      <td>1377</td>\n      <td>1400</td>\n    </tr>\n    <tr>\n      <th>1</th>\n      <td>1</td>\n      <td>assertionRoulette</td>\n      <td>8.323976e-02</td>\n      <td>1389</td>\n      <td>968</td>\n      <td>421</td>\n    </tr>\n    <tr>\n      <th>2</th>\n      <td>2</td>\n      <td>smellsCount</td>\n      <td>2.705301e-02</td>\n      <td>2655</td>\n      <td>1356</td>\n      <td>1299</td>\n    </tr>\n    <tr>\n      <th>3</th>\n      <td>3</td>\n      <td>sleepyTest</td>\n      <td>1.948161e-02</td>\n      <td>112</td>\n      <td>105</td>\n      <td>7</td>\n    </tr>\n    <tr>\n      <th>4</th>\n      <td>4</td>\n      <td>generalFixture</td>\n      <td>1.600704e-02</td>\n      <td>267</td>\n      <td>61</td>\n      <td>206</td>\n    </tr>\n    <tr>\n      <th>5</th>\n      <td>5</td>\n      <td>duplicateAssert</td>\n      <td>1.552284e-02</td>\n      <td>376</td>\n      <td>269</td>\n      <td>107</td>\n    </tr>\n    <tr>\n      <th>6</th>\n      <td>6</td>\n      <td>constructorInitialization</td>\n      <td>1.094276e-02</td>\n      <td>68</td>\n      <td>63</td>\n      <td>5</td>\n    </tr>\n    <tr>\n      <th>7</th>\n      <td>7</td>\n      <td>printStatement</td>\n      <td>1.056366e-02</td>\n      <td>58</td>\n      <td>55</td>\n      <td>3</td>\n    </tr>\n    <tr>\n      <th>8</th>\n      <td>8</td>\n      <td>sensitiveEquality</td>\n      <td>5.852377e-03</td>\n      <td>129</td>\n      <td>95</td>\n      <td>34</td>\n    </tr>\n    <tr>\n      <th>9</th>\n      <td>9</td>\n      <td>lazyTest</td>\n      <td>5.490260e-03</td>\n      <td>1788</td>\n      <td>817</td>\n      <td>971</td>\n    </tr>\n    <tr>\n      <th>10</th>\n      <td>10</td>\n      <td>resourceOptimism</td>\n      <td>4.252596e-03</td>\n      <td>75</td>\n      <td>17</td>\n      <td>58</td>\n    </tr>\n    <tr>\n      <th>11</th>\n      <td>11</td>\n      <td>conditionalTestLogic</td>\n      <td>4.217346e-03</td>\n      <td>356</td>\n      <td>219</td>\n      <td>137</td>\n    </tr>\n    <tr>\n      <th>12</th>\n      <td>12</td>\n      <td>unknownTest</td>\n      <td>2.110196e-03</td>\n      <td>544</td>\n      <td>234</td>\n      <td>310</td>\n    </tr>\n    <tr>\n      <th>13</th>\n      <td>13</td>\n      <td>verboseTest</td>\n      <td>1.771423e-03</td>\n      <td>7</td>\n      <td>7</td>\n      <td>0</td>\n    </tr>\n    <tr>\n      <th>14</th>\n      <td>14</td>\n      <td>magicNumberTest</td>\n      <td>1.108724e-03</td>\n      <td>411</td>\n      <td>227</td>\n      <td>184</td>\n    </tr>\n    <tr>\n      <th>15</th>\n      <td>15</td>\n      <td>mysteryGuest</td>\n      <td>5.519103e-04</td>\n      <td>124</td>\n      <td>71</td>\n      <td>53</td>\n    </tr>\n    <tr>\n      <th>16</th>\n      <td>16</td>\n      <td>eagerTest</td>\n      <td>2.573414e-04</td>\n      <td>970</td>\n      <td>496</td>\n      <td>474</td>\n    </tr>\n    <tr>\n      <th>17</th>\n      <td>17</td>\n      <td>redundantAssertion</td>\n      <td>9.909595e-08</td>\n      <td>8</td>\n      <td>4</td>\n      <td>4</td>\n    </tr>\n    <tr>\n      <th>18</th>\n      <td>18</td>\n      <td>defaultTest</td>\n      <td>0.000000e+00</td>\n      <td>0</td>\n      <td>0</td>\n      <td>0</td>\n    </tr>\n    <tr>\n      <th>19</th>\n      <td>19</td>\n      <td>emptyTest</td>\n      <td>0.000000e+00</td>\n      <td>0</td>\n      <td>0</td>\n      <td>0</td>\n    </tr>\n    <tr>\n      <th>20</th>\n      <td>20</td>\n      <td>ignoredTest</td>\n      <td>0.000000e+00</td>\n      <td>0</td>\n      <td>0</td>\n      <td>0</td>\n    </tr>\n  </tbody>\n</table>\n</div>"
     },
     "metadata": {},
     "execution_count": 14
    }
   ],
   "source": [
    "infGainDataset.head(50)"
   ]
  },
  {
   "cell_type": "code",
   "execution_count": 15,
   "metadata": {},
   "outputs": [],
   "source": [
    "#Inter- intra-project test"
   ]
  },
  {
   "cell_type": "code",
   "execution_count": 16,
   "metadata": {},
   "outputs": [],
   "source": [
    "test = data.loc[data.dataset == 'idFlakies']\n",
    "test = test.reset_index()"
   ]
  },
  {
   "cell_type": "code",
   "execution_count": 17,
   "metadata": {},
   "outputs": [],
   "source": [
    "msr4flakiness = test.loc[test.project.isin(msr4FlakinessProjects)]\n",
    "idflakies = test[test.project.isin(idFlakiesProjects)]\n",
    "\n",
    "msr4flakiness_y = msr4flakiness['klass']\n",
    "idflakies_y = idflakies['klass']\n",
    "\n",
    "msr4flakiness = msr4flakiness.drop(['index', 'project', 'klass', 'dataset', 'level_0'], axis=1)\n",
    "idflakies = idflakies.drop(['index', 'project', 'klass', 'dataset', 'level_0'], axis=1)"
   ]
  },
  {
   "cell_type": "code",
   "execution_count": 18,
   "metadata": {},
   "outputs": [
    {
     "output_type": "stream",
     "name": "stdout",
     "text": [
      "msr4flakiness samples 35 35\nidflakies samples 120 120\n"
     ]
    }
   ],
   "source": [
    "print('msr4flakiness samples', len(msr4flakiness), len(msr4flakiness_y))\n",
    "print('idflakies samples', len(idflakies), len(idflakies_y))"
   ]
  },
  {
   "cell_type": "code",
   "execution_count": 19,
   "metadata": {},
   "outputs": [],
   "source": [
    "for key, classifier in trained_classifier_old.items():\n",
    "    predict_msr4flakiness = classifier.predict(msr4flakiness)\n",
    "    msr4flakiness_acc = classifier.score(msr4flakiness, msr4flakiness_y)        \n",
    "    cr_msr4flakiness = classification_report(msr4flakiness_y, predict_msr4flakiness, output_dict=True, zero_division=1)\n",
    "    tn_msr4flakiness_, fp_msr4flakiness_, fn_msr4flakiness_, tp_msr4flakiness_ = confusion_matrix(msr4flakiness_y, predict_msr4flakiness, labels=[0,1]).ravel()\n",
    "\n",
    "    classStatistics = {\n",
    "        'features': 'smells',\n",
    "        'process': 'traditional',\n",
    "        'step': 'testing-intra-projects',\n",
    "        'classifier': key,\n",
    "        'acc': msr4flakiness_acc,\n",
    "        'recall': cr_msr4flakiness['1']['recall'],\n",
    "        'VP': tp_msr4flakiness_,\n",
    "        'FN': fn_msr4flakiness_\n",
    "    }\n",
    "\n",
    "    classifierStatistics = classifierStatistics.append(classStatistics, ignore_index=True)\n",
    "\n",
    "    predict_idflakies = classifier.predict(idflakies)\n",
    "    idflakies_acc = classifier.score(idflakies, idflakies_y)\n",
    "    cr_idflakies = classification_report(idflakies_y, predict_idflakies, output_dict=True, zero_division=1)\n",
    "    tn_idflakies_, fp_idflakies_, fn_idflakies_, tp_idflakies_ = confusion_matrix(idflakies_y, predict_idflakies, labels=[0, 1]).ravel()\n",
    "\n",
    "    classStatistics = {\n",
    "        'features': 'smells',\n",
    "        'process': 'traditional',\n",
    "        'step': 'testing-inter-projects',\n",
    "        'classifier': key,\n",
    "        'acc': idflakies_acc,\n",
    "        'recall': cr_idflakies['1']['recall'],\n",
    "        'VP': tp_idflakies_,\n",
    "        'FN': fn_idflakies_\n",
    "    }\n",
    "\n",
    "    classifierStatistics = classifierStatistics.append(classStatistics, ignore_index=True)"
   ]
  },
  {
   "cell_type": "code",
   "execution_count": 20,
   "metadata": {},
   "outputs": [
    {
     "output_type": "execute_result",
     "data": {
      "text/plain": [
       "   features      process                    step          classifier  \\\n",
       "8    smells  traditional  testing-intra-projects        randomForest   \n",
       "10   smells  traditional  testing-intra-projects        decisionTree   \n",
       "12   smells  traditional  testing-intra-projects          naiveBayes   \n",
       "14   smells  traditional  testing-intra-projects                 smo   \n",
       "16   smells  traditional  testing-intra-projects                 knn   \n",
       "18   smells  traditional  testing-intra-projects  logisticRegression   \n",
       "20   smells  traditional  testing-intra-projects          perceptron   \n",
       "22   smells  traditional  testing-intra-projects                 lda   \n",
       "\n",
       "         acc  precision    recall  f1  mcc  auc    VP    FN  \n",
       "8   0.685714        NaN  0.685714 NaN  NaN  NaN  24.0  11.0  \n",
       "10  0.657143        NaN  0.657143 NaN  NaN  NaN  23.0  12.0  \n",
       "12  0.571429        NaN  0.571429 NaN  NaN  NaN  20.0  15.0  \n",
       "14  0.657143        NaN  0.657143 NaN  NaN  NaN  23.0  12.0  \n",
       "16  0.514286        NaN  0.514286 NaN  NaN  NaN  18.0  17.0  \n",
       "18  0.742857        NaN  0.742857 NaN  NaN  NaN  26.0   9.0  \n",
       "20  0.714286        NaN  0.714286 NaN  NaN  NaN  25.0  10.0  \n",
       "22  0.657143        NaN  0.657143 NaN  NaN  NaN  23.0  12.0  "
      ],
      "text/html": "<div>\n<style scoped>\n    .dataframe tbody tr th:only-of-type {\n        vertical-align: middle;\n    }\n\n    .dataframe tbody tr th {\n        vertical-align: top;\n    }\n\n    .dataframe thead th {\n        text-align: right;\n    }\n</style>\n<table border=\"1\" class=\"dataframe\">\n  <thead>\n    <tr style=\"text-align: right;\">\n      <th></th>\n      <th>features</th>\n      <th>process</th>\n      <th>step</th>\n      <th>classifier</th>\n      <th>acc</th>\n      <th>precision</th>\n      <th>recall</th>\n      <th>f1</th>\n      <th>mcc</th>\n      <th>auc</th>\n      <th>VP</th>\n      <th>FN</th>\n    </tr>\n  </thead>\n  <tbody>\n    <tr>\n      <th>8</th>\n      <td>smells</td>\n      <td>traditional</td>\n      <td>testing-intra-projects</td>\n      <td>randomForest</td>\n      <td>0.685714</td>\n      <td>NaN</td>\n      <td>0.685714</td>\n      <td>NaN</td>\n      <td>NaN</td>\n      <td>NaN</td>\n      <td>24.0</td>\n      <td>11.0</td>\n    </tr>\n    <tr>\n      <th>10</th>\n      <td>smells</td>\n      <td>traditional</td>\n      <td>testing-intra-projects</td>\n      <td>decisionTree</td>\n      <td>0.657143</td>\n      <td>NaN</td>\n      <td>0.657143</td>\n      <td>NaN</td>\n      <td>NaN</td>\n      <td>NaN</td>\n      <td>23.0</td>\n      <td>12.0</td>\n    </tr>\n    <tr>\n      <th>12</th>\n      <td>smells</td>\n      <td>traditional</td>\n      <td>testing-intra-projects</td>\n      <td>naiveBayes</td>\n      <td>0.571429</td>\n      <td>NaN</td>\n      <td>0.571429</td>\n      <td>NaN</td>\n      <td>NaN</td>\n      <td>NaN</td>\n      <td>20.0</td>\n      <td>15.0</td>\n    </tr>\n    <tr>\n      <th>14</th>\n      <td>smells</td>\n      <td>traditional</td>\n      <td>testing-intra-projects</td>\n      <td>smo</td>\n      <td>0.657143</td>\n      <td>NaN</td>\n      <td>0.657143</td>\n      <td>NaN</td>\n      <td>NaN</td>\n      <td>NaN</td>\n      <td>23.0</td>\n      <td>12.0</td>\n    </tr>\n    <tr>\n      <th>16</th>\n      <td>smells</td>\n      <td>traditional</td>\n      <td>testing-intra-projects</td>\n      <td>knn</td>\n      <td>0.514286</td>\n      <td>NaN</td>\n      <td>0.514286</td>\n      <td>NaN</td>\n      <td>NaN</td>\n      <td>NaN</td>\n      <td>18.0</td>\n      <td>17.0</td>\n    </tr>\n    <tr>\n      <th>18</th>\n      <td>smells</td>\n      <td>traditional</td>\n      <td>testing-intra-projects</td>\n      <td>logisticRegression</td>\n      <td>0.742857</td>\n      <td>NaN</td>\n      <td>0.742857</td>\n      <td>NaN</td>\n      <td>NaN</td>\n      <td>NaN</td>\n      <td>26.0</td>\n      <td>9.0</td>\n    </tr>\n    <tr>\n      <th>20</th>\n      <td>smells</td>\n      <td>traditional</td>\n      <td>testing-intra-projects</td>\n      <td>perceptron</td>\n      <td>0.714286</td>\n      <td>NaN</td>\n      <td>0.714286</td>\n      <td>NaN</td>\n      <td>NaN</td>\n      <td>NaN</td>\n      <td>25.0</td>\n      <td>10.0</td>\n    </tr>\n    <tr>\n      <th>22</th>\n      <td>smells</td>\n      <td>traditional</td>\n      <td>testing-intra-projects</td>\n      <td>lda</td>\n      <td>0.657143</td>\n      <td>NaN</td>\n      <td>0.657143</td>\n      <td>NaN</td>\n      <td>NaN</td>\n      <td>NaN</td>\n      <td>23.0</td>\n      <td>12.0</td>\n    </tr>\n  </tbody>\n</table>\n</div>"
     },
     "metadata": {},
     "execution_count": 20
    }
   ],
   "source": [
    "classifierStatistics[(classifierStatistics.process == 'traditional') & ((classifierStatistics.step == 'testing-intra-projects'))]"
   ]
  },
  {
   "cell_type": "code",
   "execution_count": 21,
   "metadata": {},
   "outputs": [
    {
     "output_type": "execute_result",
     "data": {
      "text/plain": [
       "   features      process                    step          classifier  \\\n",
       "9    smells  traditional  testing-inter-projects        randomForest   \n",
       "11   smells  traditional  testing-inter-projects        decisionTree   \n",
       "13   smells  traditional  testing-inter-projects          naiveBayes   \n",
       "15   smells  traditional  testing-inter-projects                 smo   \n",
       "17   smells  traditional  testing-inter-projects                 knn   \n",
       "19   smells  traditional  testing-inter-projects  logisticRegression   \n",
       "21   smells  traditional  testing-inter-projects          perceptron   \n",
       "23   smells  traditional  testing-inter-projects                 lda   \n",
       "\n",
       "         acc  precision    recall  f1  mcc  auc    VP     FN  \n",
       "9   0.541667        NaN  0.541667 NaN  NaN  NaN  65.0   55.0  \n",
       "11  0.483333        NaN  0.483333 NaN  NaN  NaN  58.0   62.0  \n",
       "13  0.141667        NaN  0.141667 NaN  NaN  NaN  17.0  103.0  \n",
       "15  0.550000        NaN  0.550000 NaN  NaN  NaN  66.0   54.0  \n",
       "17  0.508333        NaN  0.508333 NaN  NaN  NaN  61.0   59.0  \n",
       "19  0.475000        NaN  0.475000 NaN  NaN  NaN  57.0   63.0  \n",
       "21  0.475000        NaN  0.475000 NaN  NaN  NaN  57.0   63.0  \n",
       "23  0.475000        NaN  0.475000 NaN  NaN  NaN  57.0   63.0  "
      ],
      "text/html": "<div>\n<style scoped>\n    .dataframe tbody tr th:only-of-type {\n        vertical-align: middle;\n    }\n\n    .dataframe tbody tr th {\n        vertical-align: top;\n    }\n\n    .dataframe thead th {\n        text-align: right;\n    }\n</style>\n<table border=\"1\" class=\"dataframe\">\n  <thead>\n    <tr style=\"text-align: right;\">\n      <th></th>\n      <th>features</th>\n      <th>process</th>\n      <th>step</th>\n      <th>classifier</th>\n      <th>acc</th>\n      <th>precision</th>\n      <th>recall</th>\n      <th>f1</th>\n      <th>mcc</th>\n      <th>auc</th>\n      <th>VP</th>\n      <th>FN</th>\n    </tr>\n  </thead>\n  <tbody>\n    <tr>\n      <th>9</th>\n      <td>smells</td>\n      <td>traditional</td>\n      <td>testing-inter-projects</td>\n      <td>randomForest</td>\n      <td>0.541667</td>\n      <td>NaN</td>\n      <td>0.541667</td>\n      <td>NaN</td>\n      <td>NaN</td>\n      <td>NaN</td>\n      <td>65.0</td>\n      <td>55.0</td>\n    </tr>\n    <tr>\n      <th>11</th>\n      <td>smells</td>\n      <td>traditional</td>\n      <td>testing-inter-projects</td>\n      <td>decisionTree</td>\n      <td>0.483333</td>\n      <td>NaN</td>\n      <td>0.483333</td>\n      <td>NaN</td>\n      <td>NaN</td>\n      <td>NaN</td>\n      <td>58.0</td>\n      <td>62.0</td>\n    </tr>\n    <tr>\n      <th>13</th>\n      <td>smells</td>\n      <td>traditional</td>\n      <td>testing-inter-projects</td>\n      <td>naiveBayes</td>\n      <td>0.141667</td>\n      <td>NaN</td>\n      <td>0.141667</td>\n      <td>NaN</td>\n      <td>NaN</td>\n      <td>NaN</td>\n      <td>17.0</td>\n      <td>103.0</td>\n    </tr>\n    <tr>\n      <th>15</th>\n      <td>smells</td>\n      <td>traditional</td>\n      <td>testing-inter-projects</td>\n      <td>smo</td>\n      <td>0.550000</td>\n      <td>NaN</td>\n      <td>0.550000</td>\n      <td>NaN</td>\n      <td>NaN</td>\n      <td>NaN</td>\n      <td>66.0</td>\n      <td>54.0</td>\n    </tr>\n    <tr>\n      <th>17</th>\n      <td>smells</td>\n      <td>traditional</td>\n      <td>testing-inter-projects</td>\n      <td>knn</td>\n      <td>0.508333</td>\n      <td>NaN</td>\n      <td>0.508333</td>\n      <td>NaN</td>\n      <td>NaN</td>\n      <td>NaN</td>\n      <td>61.0</td>\n      <td>59.0</td>\n    </tr>\n    <tr>\n      <th>19</th>\n      <td>smells</td>\n      <td>traditional</td>\n      <td>testing-inter-projects</td>\n      <td>logisticRegression</td>\n      <td>0.475000</td>\n      <td>NaN</td>\n      <td>0.475000</td>\n      <td>NaN</td>\n      <td>NaN</td>\n      <td>NaN</td>\n      <td>57.0</td>\n      <td>63.0</td>\n    </tr>\n    <tr>\n      <th>21</th>\n      <td>smells</td>\n      <td>traditional</td>\n      <td>testing-inter-projects</td>\n      <td>perceptron</td>\n      <td>0.475000</td>\n      <td>NaN</td>\n      <td>0.475000</td>\n      <td>NaN</td>\n      <td>NaN</td>\n      <td>NaN</td>\n      <td>57.0</td>\n      <td>63.0</td>\n    </tr>\n    <tr>\n      <th>23</th>\n      <td>smells</td>\n      <td>traditional</td>\n      <td>testing-inter-projects</td>\n      <td>lda</td>\n      <td>0.475000</td>\n      <td>NaN</td>\n      <td>0.475000</td>\n      <td>NaN</td>\n      <td>NaN</td>\n      <td>NaN</td>\n      <td>57.0</td>\n      <td>63.0</td>\n    </tr>\n  </tbody>\n</table>\n</div>"
     },
     "metadata": {},
     "execution_count": 21
    }
   ],
   "source": [
    "classifierStatistics[(classifierStatistics.process == 'traditional') & (classifierStatistics.step == 'testing-inter-projects')]"
   ]
  },
  {
   "cell_type": "code",
   "execution_count": null,
   "metadata": {},
   "outputs": [],
   "source": []
  }
 ]
}